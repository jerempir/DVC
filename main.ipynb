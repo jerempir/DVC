{
 "cells": [
  {
   "cell_type": "code",
   "execution_count": 4,
   "outputs": [],
   "source": [
    "from sklearn.model_selection import train_test_split\n",
    "import tensorflow as tf\n",
    "from tensorflow import keras\n",
    "import pandas as pd\n",
    "import numpy as np\n",
    "import matplotlib.pyplot as plt\n",
    "from sklearn import datasets\n",
    "\n"
   ],
   "metadata": {
    "collapsed": false,
    "pycharm": {
     "name": "#%%\n"
    }
   }
  },
  {
   "cell_type": "code",
   "execution_count": 6,
   "outputs": [
    {
     "name": "stdout",
     "output_type": "stream",
     "text": [
      "Epoch 1/10\n",
      "2/2 [==============================] - 1s 246ms/step - loss: 2.6233 - accuracy: 0.0000e+00 - val_loss: 2.4210 - val_accuracy: 0.0177\n",
      "Epoch 2/10\n",
      "2/2 [==============================] - 0s 42ms/step - loss: 2.3752 - accuracy: 0.0270 - val_loss: 2.2085 - val_accuracy: 0.3363\n",
      "Epoch 3/10\n",
      "2/2 [==============================] - 0s 40ms/step - loss: 2.1521 - accuracy: 0.2973 - val_loss: 2.0198 - val_accuracy: 0.2832\n",
      "Epoch 4/10\n",
      "2/2 [==============================] - 0s 42ms/step - loss: 1.9678 - accuracy: 0.2703 - val_loss: 1.8557 - val_accuracy: 0.3097\n",
      "Epoch 5/10\n",
      "2/2 [==============================] - 0s 50ms/step - loss: 1.7992 - accuracy: 0.4054 - val_loss: 1.7148 - val_accuracy: 0.3097\n",
      "Epoch 6/10\n",
      "2/2 [==============================] - 0s 51ms/step - loss: 1.6540 - accuracy: 0.4054 - val_loss: 1.5932 - val_accuracy: 0.3097\n",
      "Epoch 7/10\n",
      "2/2 [==============================] - 0s 43ms/step - loss: 1.5366 - accuracy: 0.4054 - val_loss: 1.4847 - val_accuracy: 0.3097\n",
      "Epoch 8/10\n",
      "2/2 [==============================] - 0s 42ms/step - loss: 1.4409 - accuracy: 0.4054 - val_loss: 1.3898 - val_accuracy: 0.3097\n",
      "Epoch 9/10\n",
      "2/2 [==============================] - 0s 40ms/step - loss: 1.3571 - accuracy: 0.4054 - val_loss: 1.3102 - val_accuracy: 0.3274\n",
      "Epoch 10/10\n",
      "2/2 [==============================] - 0s 39ms/step - loss: 1.2878 - accuracy: 0.4054 - val_loss: 1.2461 - val_accuracy: 0.3363\n"
     ]
    }
   ],
   "source": [
    "\n",
    "iris = datasets.load_iris()\n",
    "\n",
    "df = pd.DataFrame(iris.data, columns = iris.feature_names)\n",
    "\n",
    "df['target'] = iris.target_names[iris.target]\n",
    "df.to_csv('data/iris.csv', index=False)\n",
    "X = iris.data\n",
    "y = iris.target\n",
    "class_names = iris.target_names\n",
    "\n",
    "X_train, X_test, y_train, y_test = train_test_split(X, y, train_size = 0.25)\n",
    "\n",
    "model = keras.Sequential([\n",
    "    keras.layers.Dense(128, activation=tf.nn.relu),\n",
    "    keras.layers.Dense(10, activation=tf.nn.softmax)\n",
    "])\n",
    "\n",
    "model.compile(optimizer='adam',\n",
    "              loss='sparse_categorical_crossentropy',\n",
    "              metrics=['accuracy'])\n",
    "\n",
    "history = model.fit(X_train, y_train, epochs=10, validation_data=(X_test, y_test) )\n"
   ],
   "metadata": {
    "collapsed": false,
    "pycharm": {
     "name": "#%%\n"
    }
   }
  },
  {
   "cell_type": "code",
   "execution_count": 3,
   "outputs": [
    {
     "ename": "NameError",
     "evalue": "name 'plt' is not defined",
     "output_type": "error",
     "traceback": [
      "\u001B[1;31m---------------------------------------------------------------------------\u001B[0m",
      "\u001B[1;31mNameError\u001B[0m                                 Traceback (most recent call last)",
      "Cell \u001B[1;32mIn[3], line 2\u001B[0m\n\u001B[0;32m      1\u001B[0m \u001B[38;5;66;03m# Визуализация точности\u001B[39;00m\n\u001B[1;32m----> 2\u001B[0m \u001B[43mplt\u001B[49m\u001B[38;5;241m.\u001B[39mplot(history\u001B[38;5;241m.\u001B[39mhistory[\u001B[38;5;124m'\u001B[39m\u001B[38;5;124maccuracy\u001B[39m\u001B[38;5;124m'\u001B[39m], label\u001B[38;5;241m=\u001B[39m\u001B[38;5;124m'\u001B[39m\u001B[38;5;124mТочность на обучающих данных\u001B[39m\u001B[38;5;124m'\u001B[39m)\n\u001B[0;32m      3\u001B[0m plt\u001B[38;5;241m.\u001B[39mplot(history\u001B[38;5;241m.\u001B[39mhistory[\u001B[38;5;124m'\u001B[39m\u001B[38;5;124mval_accuracy\u001B[39m\u001B[38;5;124m'\u001B[39m], label\u001B[38;5;241m=\u001B[39m\u001B[38;5;124m'\u001B[39m\u001B[38;5;124mТочность на валидационных данных\u001B[39m\u001B[38;5;124m'\u001B[39m)\n\u001B[0;32m      4\u001B[0m plt\u001B[38;5;241m.\u001B[39mxlabel(\u001B[38;5;124m'\u001B[39m\u001B[38;5;124mЭпоха\u001B[39m\u001B[38;5;124m'\u001B[39m)\n",
      "\u001B[1;31mNameError\u001B[0m: name 'plt' is not defined"
     ]
    }
   ],
   "source": [
    "\n",
    "# Визуализация точности\n",
    "plt.plot(history.history['accuracy'], label='Точность на обучающих данных')\n",
    "plt.plot(history.history['val_accuracy'], label='Точность на валидационных данных')\n",
    "plt.xlabel('Эпоха')\n",
    "plt.ylabel('Точность')\n",
    "plt.legend()\n",
    "plt.show()\n",
    "\n",
    "# Визуализация потерь\n",
    "plt.plot(history.history['loss'], label='Потери на обучающих данных')\n",
    "plt.plot(history.history['val_loss'], label='Потери на валидационных данных')\n",
    "plt.xlabel('Эпоха')\n",
    "plt.ylabel('Потери')\n",
    "plt.legend()\n",
    "plt.show()"
   ],
   "metadata": {
    "collapsed": false,
    "pycharm": {
     "name": "#%%\n"
    }
   }
  },
  {
   "cell_type": "code",
   "execution_count": 15,
   "outputs": [
    {
     "data": {
      "text/plain": "<PIL.Image.Image image mode=RGBA size=77x27>",
      "image/png": "[encoded data removed]"
     },
     "execution_count": 15,
     "metadata": {},
     "output_type": "execute_result"
    }
   ],
   "source": [
    "import visualkeras\n",
    "visualkeras.layered_view(model)"
   ],
   "metadata": {
    "collapsed": false,
    "pycharm": {
     "name": "#%%\n"
    }
   }
  },
  {
   "cell_type": "code",
   "execution_count": 17,
   "outputs": [],
   "source": [
    "# Сохранение модели\n",
    "model.save('models/my_model1.h5')\n",
    "\n",
    "# Сохранение метрик в файл JSON\n",
    "metrics_dict = {'accuracy': history.history['accuracy'],\n",
    "                'val_accuracy': history.history['val_accuracy'],\n",
    "                'loss': history.history['loss'],\n",
    "                'val_loss': history.history['val_loss']}\n",
    "\n",
    "import json\n",
    "\n",
    "with open('metrics/metrics1.json', 'w') as json_file:\n",
    "    json.dump(metrics_dict, json_file)"
   ],
   "metadata": {
    "collapsed": false,
    "pycharm": {
     "name": "#%%\n"
    }
   }
  },
  {
   "cell_type": "code",
   "execution_count": null,
   "outputs": [],
   "source": [],
   "metadata": {
    "collapsed": false,
    "pycharm": {
     "name": "#%%\n"
    }
   }
  }
 ],
 "metadata": {
  "kernelspec": {
   "display_name": "Python 3",
   "language": "python",
   "name": "python3"
  },
  "language_info": {
   "codemirror_mode": {
    "name": "ipython",
    "version": 2
   },
   "file_extension": ".py",
   "mimetype": "text/x-python",
   "name": "python",
   "nbconvert_exporter": "python",
   "pygments_lexer": "ipython2",
   "version": "2.7.6"
  }
 },
 "nbformat": 4,
 "nbformat_minor": 0
}